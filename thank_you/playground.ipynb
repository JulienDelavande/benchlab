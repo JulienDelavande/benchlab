{
 "cells": [
  {
   "cell_type": "code",
   "execution_count": 6,
   "id": "4a87ca0d",
   "metadata": {},
   "outputs": [],
   "source": [
    "from datasets import load_dataset\n",
    "\n",
    "DATASET_NAME =  \"jdelavande/ultrachat_200k-with-thanks\"\n",
    "DATASET_NAME =  \"jdelavande/ultrachat_200k-Llama-3-8B-Instruct-with-thanks\"\n",
    "#DATASET_NAME = \"HuggingFaceH4/ultrachat_200k\""
   ]
  },
  {
   "cell_type": "code",
   "execution_count": 7,
   "id": "889debbc",
   "metadata": {},
   "outputs": [
    {
     "data": {
      "text/plain": [
       "Dataset({\n",
       "    features: ['conversation_with_thanks', 'conversation_without_thanks'],\n",
       "    num_rows: 9999\n",
       "})"
      ]
     },
     "execution_count": 7,
     "metadata": {},
     "output_type": "execute_result"
    }
   ],
   "source": [
    "data = load_dataset(DATASET_NAME, split=\"train[:-1]\")\n",
    "data"
   ]
  },
  {
   "cell_type": "code",
   "execution_count": 8,
   "id": "6505c4fb",
   "metadata": {},
   "outputs": [
    {
     "name": "stdout",
     "output_type": "stream",
     "text": [
      "Number of conversations with different lengths:\n",
      "3: 11\n",
      "5: 67121\n",
      "7: 67879\n",
      "9: 55551\n",
      "11: 9577\n",
      "13: 4264\n",
      "15: 3460\n"
     ]
    }
   ],
   "source": [
    "count_messages = {}\n",
    "for conversation in data[\"messages\"]:\n",
    "    count_messages[len(conversation)] = count_messages.get(len(conversation), 0) + 1\n",
    "print(\"Number of conversations with different lengths:\")\n",
    "for length, count in sorted(count_messages.items()):\n",
    "    print(f\"{length}: {count}\")\n"
   ]
  },
  {
   "cell_type": "code",
   "execution_count": 9,
   "id": "5afdb91c",
   "metadata": {},
   "outputs": [
    {
     "data": {
      "text/plain": [
       "(679, 679)"
      ]
     },
     "execution_count": 9,
     "metadata": {},
     "output_type": "execute_result"
    }
   ],
   "source": [
    "from transformers import AutoTokenizer\n",
    "tokenizer = AutoTokenizer.from_pretrained(\"meta-llama/Llama-3.1-8B-Instruct\")\n",
    "first = tokenizer(data[\"conversation_with_thanks\"][0])\n",
    "len(first[\"input_ids\"]), len(first[\"attention_mask\"])"
   ]
  },
  {
   "cell_type": "code",
   "execution_count": 11,
   "id": "991dc4de",
   "metadata": {},
   "outputs": [
    {
     "name": "stdout",
     "output_type": "stream",
     "text": [
      "Number of conversations with different input token lengths:\n"
     ]
    },
    {
     "data": {
      "image/png": "[encoded data removed]",
      "text/plain": [
       "<Figure size 640x480 with 1 Axes>"
      ]
     },
     "metadata": {},
     "output_type": "display_data"
    }
   ],
   "source": [
    "from transformers import AutoTokenizer\n",
    "tokenizer = AutoTokenizer.from_pretrained(\"meta-llama/Llama-3.1-8B-Instruct\")\n",
    "count_input_tokens = {}\n",
    "for conversation in data[\"conversation_with_thanks\"]:\n",
    "    count_tokens = len(tokenizer(conversation)[\"input_ids\"])\n",
    "    count_input_tokens[count_tokens] = count_input_tokens.get(count_tokens, 0) + 1\n",
    "print(\"Number of conversations with different input token lengths:\")\n",
    "import matplotlib.pyplot as plt\n",
    "plt.bar(count_input_tokens.keys(), count_input_tokens.values())\n",
    "plt.xlabel(\"Input Token Length\")\n",
    "plt.ylabel(\"Number of Conversations\")\n",
    "plt.title(\"Distribution of Input Token Lengths in Conversations\")\n",
    "plt.show()\n"
   ]
  },
  {
   "cell_type": "code",
   "execution_count": 5,
   "id": "8531d0f6",
   "metadata": {},
   "outputs": [
    {
     "data": {
      "text/plain": [
       "\"<|begin_of_text|>\\n<|start_header_id|>user<|end_header_id|>\\n\\nThese instructions apply to section-based themes (Responsive 6.0+, Retina 4.0+, Parallax 3.0+ Turbo 2.0+, Mobilia 5.0+). What theme version am I using?\\nOn your Collections pages & Featured Collections sections, you can easily show the secondary image of a product on hover by enabling one of the theme's built-in settings!\\nYour Collection pages & Featured Collections sections will now display the secondary product image just by hovering over that product image thumbnail.\\nDoes this feature apply to all sections of the theme or just specific ones as listed in the text material?<|eot_id|><|start_header_id|>assistant<|end_header_id|>\\n\\nThis feature only applies to Collection pages and Featured Collections sections of the section-based themes listed in the text material.<|eot_id|><|start_header_id|>user<|end_header_id|>\\n\\nCan you guide me through the process of enabling the secondary image hover feature on my Collection pages and Featured Collections sections?<|eot_id|><|start_header_id|>assistant<|end_header_id|>\\n\\nSure, here are the steps to enable the secondary image hover feature on your Collection pages and Featured Collections sections:\\n\\n1. Log in to your Shopify account and go to your Online Store.\\n2. Click on Customize theme for the section-based theme you are using.\\n3. Navigate to the Collection pages or Featured Collections section where you want to enable the secondary image hover feature.\\n4. With the section open, click on the section's setting (gear) icon in the top-left corner.\\n5. In the settings panel that appears, look for an option labeled 'Image display' or 'Image hover'.\\n6. If available, select 'Show secondary image on hover'.\\n7. Save the changes and preview the Collection/Featured Collection page to see the effect.\\n\\nIf you're having trouble finding the setting, the best thing to do is refer to your theme's documentation, since the location and labeling of settings can vary between themes.<|eot_id|><|start_header_id|>user<|end_header_id|>\\n\\nCan you provide me with a link to the documentation for my theme?<|eot_id|><|start_header_id|>assistant<|end_header_id|>\\n\\nI don't have access to your store's theme information. However, you can usually find the documentation for your theme by going to the shopify theme store, finding your theme and clicking on the 'support' link located in the bottom right corner of the page. Alternatively, you can do a google search for the name of your theme followed by 'documentation' or 'user guide'.<|eot_id|><|start_header_id|>user<|end_header_id|>\\n\\nCan you confirm if this feature also works for the Quick Shop section of my theme?<|eot_id|><|start_header_id|>assistant<|end_header_id|>\\n\\nThe secondary image hover feature may or may not work for your Quick Shop section, depending on the configuration of your theme. Some themes include this feature in the Quick Shop section by default, while others may require additional customization. To check if this feature is available for the Quick Shop section of your theme, follow these steps:\\n\\n1. Go to the Quick Shop section where you would like to enable the feature. 2. Click on the Quick Shop settings icon (gear icon) and look for 'Image display' or 'Image hover'. 3. If available, select 'Show secondary image on hover'. 4. Save the changes. If this option is not available in your Quick Shop section settings, you may need to reach out to your theme developer for assistance with customizing your Quick Shop section to include this feature.<|eot_id|><|start_header_id|>user<|end_header_id|>\\n\\nThank you.<|eot_id|>\""
      ]
     },
     "execution_count": 5,
     "metadata": {},
     "output_type": "execute_result"
    }
   ],
   "source": [
    "data['conversation_with_thanks'][0]"
   ]
  },
  {
   "cell_type": "code",
   "execution_count": 4,
   "id": "b699cb1b",
   "metadata": {},
   "outputs": [
    {
     "data": {
      "text/plain": [
       "[\"<|begin_of_text|>\\n<|start_header_id|>user<|end_header_id|>\\n\\nThese instructions apply to section-based themes (Responsive 6.0+, Retina 4.0+, Parallax 3.0+ Turbo 2.0+, Mobilia 5.0+). What theme version am I using?\\nOn your Collections pages & Featured Collections sections, you can easily show the secondary image of a product on hover by enabling one of the theme's built-in settings!\\nYour Collection pages & Featured Collections sections will now display the secondary product image just by hovering over that product image thumbnail.\\nDoes this feature apply to all sections of the theme or just specific ones as listed in the text material?\",\n",
       " '<|start_header_id|>assistant<|end_header_id|>\\n\\nThis feature only applies to Collection pages and Featured Collections sections of the section-based themes listed in the text material.',\n",
       " '<|start_header_id|>user<|end_header_id|>\\n\\nCan you guide me through the process of enabling the secondary image hover feature on my Collection pages and Featured Collections sections?',\n",
       " \"<|start_header_id|>assistant<|end_header_id|>\\n\\nSure, here are the steps to enable the secondary image hover feature on your Collection pages and Featured Collections sections:\\n\\n1. Log in to your Shopify account and go to your Online Store.\\n2. Click on Customize theme for the section-based theme you are using.\\n3. Navigate to the Collection pages or Featured Collections section where you want to enable the secondary image hover feature.\\n4. With the section open, click on the section's setting (gear) icon in the top-left corner.\\n5. In the settings panel that appears, look for an option labeled 'Image display' or 'Image hover'.\\n6. If available, select 'Show secondary image on hover'.\\n7. Save the changes and preview the Collection/Featured Collection page to see the effect.\\n\\nIf you're having trouble finding the setting, the best thing to do is refer to your theme's documentation, since the location and labeling of settings can vary between themes.\",\n",
       " '<|start_header_id|>user<|end_header_id|>\\n\\nCan you provide me with a link to the documentation for my theme?',\n",
       " \"<|start_header_id|>assistant<|end_header_id|>\\n\\nI don't have access to your store's theme information. However, you can usually find the documentation for your theme by going to the shopify theme store, finding your theme and clicking on the 'support' link located in the bottom right corner of the page. Alternatively, you can do a google search for the name of your theme followed by 'documentation' or 'user guide'.\",\n",
       " '<|start_header_id|>user<|end_header_id|>\\n\\nCan you confirm if this feature also works for the Quick Shop section of my theme?',\n",
       " \"<|start_header_id|>assistant<|end_header_id|>\\n\\nThe secondary image hover feature may or may not work for your Quick Shop section, depending on the configuration of your theme. Some themes include this feature in the Quick Shop section by default, while others may require additional customization. To check if this feature is available for the Quick Shop section of your theme, follow these steps:\\n\\n1. Go to the Quick Shop section where you would like to enable the feature. 2. Click on the Quick Shop settings icon (gear icon) and look for 'Image display' or 'Image hover'. 3. If available, select 'Show secondary image on hover'. 4. Save the changes. If this option is not available in your Quick Shop section settings, you may need to reach out to your theme developer for assistance with customizing your Quick Shop section to include this feature.\",\n",
       " '<|start_header_id|>user<|end_header_id|>\\n\\nThank you.',\n",
       " '']"
      ]
     },
     "execution_count": 4,
     "metadata": {},
     "output_type": "execute_result"
    }
   ],
   "source": [
    "data['conversation_with_thanks'][0].split(\"<|eot_id|>\")"
   ]
  },
  {
   "cell_type": "code",
   "execution_count": 4,
   "id": "b8ea8409",
   "metadata": {},
   "outputs": [
    {
     "name": "stdout",
     "output_type": "stream",
     "text": [
      "Fri May 30 13:26:43 2025       \n",
      "+-----------------------------------------------------------------------------------------+\n",
      "| NVIDIA-SMI 565.57.01              Driver Version: 565.57.01      CUDA Version: 12.7     |\n",
      "|-----------------------------------------+------------------------+----------------------+\n",
      "| GPU  Name                 Persistence-M | Bus-Id          Disp.A | Volatile Uncorr. ECC |\n",
      "| Fan  Temp   Perf          Pwr:Usage/Cap |           Memory-Usage | GPU-Util  Compute M. |\n",
      "|                                         |                        |               MIG M. |\n",
      "|=========================================+========================+======================|\n",
      "|   0  NVIDIA H100 80GB HBM3          On  |   00000000:64:00.0 Off |                    0 |\n",
      "| N/A   38C    P0            153W /  700W |   31722MiB /  81559MiB |      0%      Default |\n",
      "|                                         |                        |             Disabled |\n",
      "+-----------------------------------------+------------------------+----------------------+\n",
      "                                                                                         \n",
      "+-----------------------------------------------------------------------------------------+\n",
      "| Processes:                                                                              |\n",
      "|  GPU   GI   CI        PID   Type   Process name                              GPU Memory |\n",
      "|        ID   ID                                                               Usage      |\n",
      "|=========================================================================================|\n",
      "|    0   N/A  N/A   3834755      C   ...miniconda3/envs/benchlab/bin/python      31714MiB |\n",
      "+-----------------------------------------------------------------------------------------+\n"
     ]
    }
   ],
   "source": [
    "!nvidia-smi"
   ]
  },
  {
   "cell_type": "code",
   "execution_count": 4,
   "id": "cd62a291",
   "metadata": {},
   "outputs": [
    {
     "name": "stderr",
     "output_type": "stream",
     "text": [
      "Loading checkpoint shards: 100%|███████████████████████████████████████████████████████████████████████████████████████████████████████████████████████████████████████████████████████████████████████████████████████████████████████████████████████████████████| 4/4 [00:08<00:00,  2.10s/it]\n",
      "Device set to use cuda:0\n"
     ]
    }
   ],
   "source": [
    "from transformers import pipeline\n",
    "pipe = pipeline(\n",
    "    \"text-generation\",\n",
    "    model=\"meta-llama/Llama-3.1-8B-Instruct\",\n",
    "    device=0,\n",
    "    max_new_tokens=128,\n",
    ")\n"
   ]
  },
  {
   "cell_type": "code",
   "execution_count": 5,
   "id": "d611140d",
   "metadata": {},
   "outputs": [
    {
     "name": "stderr",
     "output_type": "stream",
     "text": [
      "Setting `pad_token_id` to `eos_token_id`:128001 for open-end generation.\n"
     ]
    },
    {
     "data": {
      "text/plain": [
       "[{'generated_text': [{'content': \"These instructions apply to section-based themes (Responsive 6.0+, Retina 4.0+, Parallax 3.0+ Turbo 2.0+, Mobilia 5.0+). What theme version am I using?\\nOn your Collections pages & Featured Collections sections, you can easily show the secondary image of a product on hover by enabling one of the theme's built-in settings!\\nYour Collection pages & Featured Collections sections will now display the secondary product image just by hovering over that product image thumbnail.\\nDoes this feature apply to all sections of the theme or just specific ones as listed in the text material?\",\n",
       "    'role': 'user'},\n",
       "   {'content': 'This feature only applies to Collection pages and Featured Collections sections of the section-based themes listed in the text material.',\n",
       "    'role': 'assistant'},\n",
       "   {'content': 'Can you guide me through the process of enabling the secondary image hover feature on my Collection pages and Featured Collections sections?',\n",
       "    'role': 'user'},\n",
       "   {'content': \"Sure, here are the steps to enable the secondary image hover feature on your Collection pages and Featured Collections sections:\\n\\n1. Log in to your Shopify account and go to your Online Store.\\n2. Click on Customize theme for the section-based theme you are using.\\n3. Navigate to the Collection pages or Featured Collections section where you want to enable the secondary image hover feature.\\n4. With the section open, click on the section's setting (gear) icon in the top-left corner.\\n5. In the settings panel that appears, look for an option labeled 'Image display' or 'Image hover'.\\n6. If available, select 'Show secondary image on hover'.\\n7. Save the changes and preview the Collection/Featured Collection page to see the effect.\\n\\nIf you're having trouble finding the setting, the best thing to do is refer to your theme's documentation, since the location and labeling of settings can vary between themes.\",\n",
       "    'role': 'assistant'},\n",
       "   {'content': 'Can you provide me with a link to the documentation for my theme?',\n",
       "    'role': 'user'},\n",
       "   {'content': \"I don't have access to your store's theme information. However, you can usually find the documentation for your theme by going to the shopify theme store, finding your theme and clicking on the 'support' link located in the bottom right corner of the page. Alternatively, you can do a google search for the name of your theme followed by 'documentation' or 'user guide'.\",\n",
       "    'role': 'assistant'},\n",
       "   {'content': 'Can you confirm if this feature also works for the Quick Shop section of my theme?',\n",
       "    'role': 'user'},\n",
       "   {'content': \"The secondary image hover feature may or may not work for your Quick Shop section, depending on the configuration of your theme. Some themes include this feature in the Quick Shop section by default, while others may require additional customization. To check if this feature is available for the Quick Shop section of your theme, follow these steps:\\n\\n1. Go to the Quick Shop section where you would like to enable the feature. 2. Click on the Quick Shop settings icon (gear icon) and look for 'Image display' or 'Image hover'. 3. If available, select 'Show secondary image on hover'. 4. Save the changes. If this option is not available in your Quick Shop section settings, you may need to reach out to your theme developer for assistance with customizing your Quick Shop section to include this feature.\",\n",
       "    'role': 'assistant'},\n",
       "   {'content': 'Thank you!', 'role': 'user'},\n",
       "   {'role': 'assistant',\n",
       "    'content': \"I hope you're able to get your theme set up with the secondary image hover feature working as expected. If you have any more questions or need further assistance, feel free to ask!\"}]}]"
      ]
     },
     "execution_count": 5,
     "metadata": {},
     "output_type": "execute_result"
    }
   ],
   "source": [
    "pipe(data[\"messages\"][0])"
   ]
  },
  {
   "cell_type": "code",
   "execution_count": null,
   "id": "7ab87fd7",
   "metadata": {},
   "outputs": [],
   "source": [
    "from transformers import AutoTokenizer\n",
    "tokenizer = AutoTokenizer.from_pretrained(\"meta-llama/Llama-3.1-8B-Instruct\")\n",
    "inputs = tokenizer(\"<|eot_id|>\")"
   ]
  },
  {
   "cell_type": "code",
   "execution_count": 22,
   "id": "ed0fbedf",
   "metadata": {},
   "outputs": [
    {
     "data": {
      "text/plain": [
       "{'input_ids': [128000, 128009], 'attention_mask': [1, 1]}"
      ]
     },
     "execution_count": 22,
     "metadata": {},
     "output_type": "execute_result"
    }
   ],
   "source": [
    "inputs"
   ]
  },
  {
   "cell_type": "code",
   "execution_count": 28,
   "id": "7fca7fa6",
   "metadata": {},
   "outputs": [
    {
     "data": {
      "text/plain": [
       "'<|end_of_text|>'"
      ]
     },
     "execution_count": 28,
     "metadata": {},
     "output_type": "execute_result"
    }
   ],
   "source": [
    "tokenizer.decode(128001)"
   ]
  },
  {
   "cell_type": "code",
   "execution_count": 23,
   "id": "f2e2e3d4",
   "metadata": {},
   "outputs": [
    {
     "name": "stderr",
     "output_type": "stream",
     "text": [
      "Setting `pad_token_id` to `eos_token_id`:128001 for open-end generation.\n"
     ]
    }
   ],
   "source": [
    "res = pipe(prompt)"
   ]
  },
  {
   "cell_type": "code",
   "execution_count": 24,
   "id": "09141daf",
   "metadata": {},
   "outputs": [
    {
     "data": {
      "text/plain": [
       "[\"<|begin_of_text|>\\n<|start_header_id|>user<|end_header_id|>\\n\\nThese instructions apply to section-based themes (Responsive 6.0+, Retina 4.0+, Parallax 3.0+ Turbo 2.0+, Mobilia 5.0+). What theme version am I using?\\nOn your Collections pages & Featured Collections sections, you can easily show the secondary image of a product on hover by enabling one of the theme's built-in settings!\\nYour Collection pages & Featured Collections sections will now display the secondary product image just by hovering over that product image thumbnail.\\nDoes this feature apply to all sections of the theme or just specific ones as listed in the text material?\",\n",
       " '<|start_header_id|>assistant<|end_header_id|>\\n\\nThis feature only applies to Collection pages and Featured Collections sections of the section-based themes listed in the text material.',\n",
       " '<|start_header_id|>user<|end_header_id|>\\n\\nCan you guide me through the process of enabling the secondary image hover feature on my Collection pages and Featured Collections sections?',\n",
       " \"<|start_header_id|>assistant<|end_header_id|>\\n\\nSure, here are the steps to enable the secondary image hover feature on your Collection pages and Featured Collections sections:\\n\\n1. Log in to your Shopify account and go to your Online Store.\\n2. Click on Customize theme for the section-based theme you are using.\\n3. Navigate to the Collection pages or Featured Collections section where you want to enable the secondary image hover feature.\\n4. With the section open, click on the section's setting (gear) icon in the top-left corner.\\n5. In the settings panel that appears, look for an option labeled 'Image display' or 'Image hover'.\\n6. If available, select 'Show secondary image on hover'.\\n7. Save the changes and preview the Collection/Featured Collection page to see the effect.\\n\\nIf you're having trouble finding the setting, the best thing to do is refer to your theme's documentation, since the location and labeling of settings can vary between themes.\",\n",
       " '<|start_header_id|>user<|end_header_id|>\\n\\nCan you provide me with a link to the documentation for my theme?',\n",
       " \"<|start_header_id|>assistant<|end_header_id|>\\n\\nI don't have access to your store's theme information. However, you can usually find the documentation for your theme by going to the shopify theme store, finding your theme and clicking on the 'support' link located in the bottom right corner of the page. Alternatively, you can do a google search for the name of your theme followed by 'documentation' or 'user guide'.\",\n",
       " '<|start_header_id|>user<|end_header_id|>\\n\\nCan you confirm if this feature also works for the Quick Shop section of my theme?',\n",
       " \"<|start_header_id|>assistant<|end_header_id|>\\n\\nThe secondary image hover feature may or may not work for your Quick Shop section, depending on the configuration of your theme. Some themes include this feature in the Quick Shop section by default, while others may require additional customization. To check if this feature is available for the Quick Shop section of your theme, follow these steps:\\n\\n1. Go to the Quick Shop section where you would like to enable the feature. 2. Click on the Quick Shop settings icon (gear icon) and look for 'Image display' or 'Image hover'. 3. If available, select 'Show secondary image on hover'. 4. Save the changes. If this option is not available in your Quick Shop section settings, you may need to reach out to your theme developer for assistance with customizing your Quick Shop section to include this feature.\",\n",
       " '<|start_header_id|>user<|end_header_id|>\\n\\nThank you.',\n",
       " \"<|start_header_id|>assistant<|end_header_id|>\\n\\nI hope you're able to get the secondary image hover feature working on your Collection pages, Featured Collections, and potentially even the Quick Shop section. If you have any more questions or need further assistance, feel free to ask!\"]"
      ]
     },
     "execution_count": 24,
     "metadata": {},
     "output_type": "execute_result"
    }
   ],
   "source": [
    "res[0]['generated_text'].split(\"<|eot_id|>\")"
   ]
  },
  {
   "cell_type": "code",
   "execution_count": 12,
   "id": "bdf31a3e",
   "metadata": {},
   "outputs": [
    {
     "data": {
      "text/plain": [
       "\"<|begin_of_text|>\\n<|start_header_id|>user<|end_header_id|>\\n\\nThese instructions apply to section-based themes (Responsive 6.0+, Retina 4.0+, Parallax 3.0+ Turbo 2.0+, Mobilia 5.0+). What theme version am I using?\\nOn your Collections pages & Featured Collections sections, you can easily show the secondary image of a product on hover by enabling one of the theme's built-in settings!\\nYour Collection pages & Featured Collections sections will now display the secondary product image just by hovering over that product image thumbnail.\\nDoes this feature apply to all sections of the theme or just specific ones as listed in the text material?<|eot_id|><|start_header_id|>assistant<|end_header_id|>\\n\\nThis feature only applies to Collection pages and Featured Collections sections of the section-based themes listed in the text material.<|eot_id|><|start_header_id|>user<|end_header_id|>\\n\\nCan you guide me through the process of enabling the secondary image hover feature on my Collection pages and Featured Collections sections?<|eot_id|><|start_header_id|>assistant<|end_header_id|>\\n\\nSure, here are the steps to enable the secondary image hover feature on your Collection pages and Featured Collections sections:\\n\\n1. Log in to your Shopify account and go to your Online Store.\\n2. Click on Customize theme for the section-based theme you are using.\\n3. Navigate to the Collection pages or Featured Collections section where you want to enable the secondary image hover feature.\\n4. With the section open, click on the section's setting (gear) icon in the top-left corner.\\n5. In the settings panel that appears, look for an option labeled 'Image display' or 'Image hover'.\\n6. If available, select 'Show secondary image on hover'.\\n7. Save the changes and preview the Collection/Featured Collection page to see the effect.\\n\\nIf you're having trouble finding the setting, the best thing to do is refer to your theme's documentation, since the location and labeling of settings can vary between themes.<|eot_id|><|start_header_id|>user<|end_header_id|>\\n\\nCan you provide me with a link to the documentation for my theme?<|eot_id|><|start_header_id|>assistant<|end_header_id|>\\n\\nI don't have access to your store's theme information. However, you can usually find the documentation for your theme by going to the shopify theme store, finding your theme and clicking on the 'support' link located in the bottom right corner of the page. Alternatively, you can do a google search for the name of your theme followed by 'documentation' or 'user guide'.<|eot_id|><|start_header_id|>user<|end_header_id|>\\n\\nCan you confirm if this feature also works for the Quick Shop section of my theme?<|eot_id|><|start_header_id|>assistant<|end_header_id|>\\n\\nThe secondary image hover feature may or may not work for your Quick Shop section, depending on the configuration of your theme. Some themes include this feature in the Quick Shop section by default, while others may require additional customization. To check if this feature is available for the Quick Shop section of your theme, follow these steps:\\n\\n1. Go to the Quick Shop section where you would like to enable the feature. 2. Click on the Quick Shop settings icon (gear icon) and look for 'Image display' or 'Image hover'. 3. If available, select 'Show secondary image on hover'. 4. Save the changes. If this option is not available in your Quick Shop section settings, you may need to reach out to your theme developer for assistance with customizing your Quick Shop section to include this feature.<|eot_id|><|start_header_id|>user<|end_header_id|>\\n\\nThank you.<|eot_id|><|start_header_id|>assistant<|end_header_id|>\\n\\nI hope you're able to get the secondary image hover feature working on your Collection pages, Featured Collections, and potentially the Quick Shop section as well. If you have any more questions or need further assistance, feel free to ask!\""
      ]
     },
     "execution_count": 12,
     "metadata": {},
     "output_type": "execute_result"
    }
   ],
   "source": [
    "res[0]['generated_text']"
   ]
  },
  {
   "cell_type": "markdown",
   "id": "eca1b40b",
   "metadata": {},
   "source": [
    "## code carbon measures"
   ]
  },
  {
   "cell_type": "code",
   "execution_count": null,
   "id": "4d3c2518",
   "metadata": {},
   "outputs": [
    {
     "name": "stderr",
     "output_type": "stream",
     "text": [
      "/fsx/jdelavande/miniconda3/envs/benchlab/lib/python3.10/site-packages/tqdm/auto.py:21: TqdmWarning: IProgress not found. Please update jupyter and ipywidgets. See https://ipywidgets.readthedocs.io/en/stable/user_install.html\n",
      "  from .autonotebook import tqdm as notebook_tqdm\n",
      "Loading checkpoint shards: 100%|███████████████████████████████████████████████████████████████████████████████████████████████████████████████████████████████████████████████████████████████████████████████████████████████████████████████████████████████████| 4/4 [00:08<00:00,  2.01s/it]\n",
      "Device set to use cuda:0\n"
     ]
    }
   ],
   "source": [
    "from transformers import pipeline\n",
    "from datasets import load_dataset\n",
    "from codecarbon import EmissionsTracker\n",
    "import pandas as pd\n",
    "import torch\n",
    "import time\n",
    "from tqdm import tqdm\n",
    "\n",
    "\n",
    "# Initialisation du pipeline\n",
    "pipe = pipeline(\n",
    "    \"text-generation\",\n",
    "    model=\"meta-llama/Llama-3.1-8B-Instruct\",\n",
    "    device=0,\n",
    "    max_new_tokens=128,\n",
    ")\n",
    "\n",
    "\n"
   ]
  },
  {
   "cell_type": "code",
   "execution_count": 34,
   "id": "8b67f15b",
   "metadata": {},
   "outputs": [
    {
     "name": "stderr",
     "output_type": "stream",
     "text": [
      "Generating train split: 100%|████████████████████████████████████████████████████████████████████████████████████████████████████████████████████████████████████████████████████████████████████████████████████████████████████████████████████| 10000/10000 [00:00<00:00, 58472.28 examples/s]\n"
     ]
    }
   ],
   "source": [
    "# Paramètres\n",
    "DATASET_NAME = \"jdelavande/ultrachat_200k-Llama-3-8B-Instruct-with-thanks\"\n",
    "SPLIT = \"train\"\n",
    "N_SAMPLES = 1  # à adapter si tu veux tout faire\n",
    "OUT_CSV = \"ultrachat_energy_measurements.csv\"\n",
    "\n",
    "# Charger le dataset (extrait 10 000 premiers exemples)\n",
    "dataset = load_dataset(DATASET_NAME, split=SPLIT).select(range(N_SAMPLES))\n"
   ]
  },
  {
   "cell_type": "code",
   "execution_count": 35,
   "id": "4f1753c4",
   "metadata": {},
   "outputs": [
    {
     "data": {
      "text/plain": [
       "\"<|begin_of_text|>\\n<|start_header_id|>user<|end_header_id|>\\n\\nThese instructions apply to section-based themes (Responsive 6.0+, Retina 4.0+, Parallax 3.0+ Turbo 2.0+, Mobilia 5.0+). What theme version am I using?\\nOn your Collections pages & Featured Collections sections, you can easily show the secondary image of a product on hover by enabling one of the theme's built-in settings!\\nYour Collection pages & Featured Collections sections will now display the secondary product image just by hovering over that product image thumbnail.\\nDoes this feature apply to all sections of the theme or just specific ones as listed in the text material?<|eot_id|><|start_header_id|>assistant<|end_header_id|>\\n\\nThis feature only applies to Collection pages and Featured Collections sections of the section-based themes listed in the text material.<|eot_id|><|start_header_id|>user<|end_header_id|>\\n\\nCan you guide me through the process of enabling the secondary image hover feature on my Collection pages and Featured Collections sections?<|eot_id|><|start_header_id|>assistant<|end_header_id|>\\n\\nSure, here are the steps to enable the secondary image hover feature on your Collection pages and Featured Collections sections:\\n\\n1. Log in to your Shopify account and go to your Online Store.\\n2. Click on Customize theme for the section-based theme you are using.\\n3. Navigate to the Collection pages or Featured Collections section where you want to enable the secondary image hover feature.\\n4. With the section open, click on the section's setting (gear) icon in the top-left corner.\\n5. In the settings panel that appears, look for an option labeled 'Image display' or 'Image hover'.\\n6. If available, select 'Show secondary image on hover'.\\n7. Save the changes and preview the Collection/Featured Collection page to see the effect.\\n\\nIf you're having trouble finding the setting, the best thing to do is refer to your theme's documentation, since the location and labeling of settings can vary between themes.<|eot_id|><|start_header_id|>user<|end_header_id|>\\n\\nCan you provide me with a link to the documentation for my theme?<|eot_id|><|start_header_id|>assistant<|end_header_id|>\\n\\nI don't have access to your store's theme information. However, you can usually find the documentation for your theme by going to the shopify theme store, finding your theme and clicking on the 'support' link located in the bottom right corner of the page. Alternatively, you can do a google search for the name of your theme followed by 'documentation' or 'user guide'.<|eot_id|><|start_header_id|>user<|end_header_id|>\\n\\nCan you confirm if this feature also works for the Quick Shop section of my theme?<|eot_id|><|start_header_id|>assistant<|end_header_id|>\\n\\nThe secondary image hover feature may or may not work for your Quick Shop section, depending on the configuration of your theme. Some themes include this feature in the Quick Shop section by default, while others may require additional customization. To check if this feature is available for the Quick Shop section of your theme, follow these steps:\\n\\n1. Go to the Quick Shop section where you would like to enable the feature. 2. Click on the Quick Shop settings icon (gear icon) and look for 'Image display' or 'Image hover'. 3. If available, select 'Show secondary image on hover'. 4. Save the changes. If this option is not available in your Quick Shop section settings, you may need to reach out to your theme developer for assistance with customizing your Quick Shop section to include this feature.<|eot_id|><|start_header_id|>user<|end_header_id|>\\n\\nThank you!<|eot_id|><|start_header_id|>assistant<|end_header_id|>\\n\\n\""
      ]
     },
     "execution_count": 35,
     "metadata": {},
     "output_type": "execute_result"
    }
   ],
   "source": [
    "dataset[0]['conversation_with_thanks']"
   ]
  },
  {
   "cell_type": "code",
   "execution_count": 22,
   "id": "e5003235",
   "metadata": {},
   "outputs": [],
   "source": [
    "tokenizer = pipe.tokenizer"
   ]
  },
  {
   "cell_type": "code",
   "execution_count": null,
   "id": "7f426107",
   "metadata": {},
   "outputs": [
    {
     "name": "stderr",
     "output_type": "stream",
     "text": [
      "Measuring generations:   0%|                                                                                                                                                                                                                                               | 0/1 [00:00<?, ?it/s]"
     ]
    },
    {
     "name": "stderr",
     "output_type": "stream",
     "text": [
      "The following generation flags are not valid and may be ignored: ['temperature', 'top_p']. Set `TRANSFORMERS_VERBOSITY=info` for more details.\n",
      "Setting `pad_token_id` to `eos_token_id`:128001 for open-end generation.\n",
      "The following generation flags are not valid and may be ignored: ['temperature', 'top_p']. Set `TRANSFORMERS_VERBOSITY=info` for more details.\n",
      "Setting `pad_token_id` to `eos_token_id`:128001 for open-end generation.\n",
      "Measuring generations: 100%|███████████████████████████████████████████████████████████████████████████████████████████████████████████████████████████████████████████████████████████████████████████████████████████████████████████████████████████████████████| 1/1 [00:09<00:00,  9.24s/it]"
     ]
    },
    {
     "name": "stdout",
     "output_type": "stream",
     "text": [
      "Résultats sauvegardés dans ultrachat_energy_measurements.csv\n"
     ]
    },
    {
     "name": "stderr",
     "output_type": "stream",
     "text": [
      "\n"
     ]
    }
   ],
   "source": [
    "\n",
    "# Liste pour stocker les résultats\n",
    "results = []\n",
    "\n",
    "# Mesure et génération\n",
    "for item in tqdm(dataset, desc=\"Measuring generations\"):\n",
    "    prompt = item['conversation_with_thanks']\n",
    "\n",
    "    tracker = EmissionsTracker(\n",
    "        #measure_power_secs=0.1,\n",
    "        log_level=\"error\",\n",
    "        output_file=None,\n",
    "        save_to_file=False,\n",
    "    )\n",
    "\n",
    "    inputs = pipe.tokenizer(prompt, return_tensors=\"pt\").to(pipe.device)\n",
    "    \n",
    "\n",
    "    # prefill\n",
    "    tracker.start()\n",
    "    start = time.time()\n",
    "    with torch.no_grad():\n",
    "        outputs = pipe.model.generate(\n",
    "            **inputs,\n",
    "            max_new_tokens=1,\n",
    "            do_sample=False,\n",
    "            return_dict_in_generate=True,\n",
    "        )\n",
    "    end = time.time()\n",
    "    emissions: dict = tracker.stop()\n",
    "\n",
    "    duration_prefill = end - start\n",
    "    energy_prefill_cpu = tracker._total_cpu_energy.kWh\n",
    "    energy_prefill_gpu = tracker._total_gpu_energy.kWh\n",
    "\n",
    "    # generate\n",
    "    tracker.start()\n",
    "    start = time.time()\n",
    "    with torch.no_grad():\n",
    "        generated = pipe.model.generate(\n",
    "            **inputs,\n",
    "            max_new_tokens=128,\n",
    "            do_sample=False,\n",
    "            return_dict_in_generate=True,\n",
    "        )\n",
    "    generated = pipe.tokenizer.decode(generated.sequences[0], skip_special_tokens=True)\n",
    "    end = time.time()\n",
    "\n",
    "    emissions: dict = tracker.stop()\n",
    "\n",
    "    duration_generate = end - start\n",
    "    energy_generate_cpu = tracker._total_cpu_energy.kWh\n",
    "    energy_generate_gpu = tracker._total_gpu_energy.kWh\n",
    "\n",
    "    # decode\n",
    "    duration_decode = duration_generate - duration_prefill\n",
    "    energy_cpu_decode = energy_generate_cpu - energy_prefill_cpu\n",
    "    energy_gpu_decode = energy_generate_gpu - energy_prefill_gpu\n",
    "\n",
    "    prompt_tokens = len(pipe.tokenizer(prompt, skip_special_tokens=False)[\"input_ids\"])\n",
    "    response_tokens = len(pipe.tokenizer(generated, skip_special_tokens=False)[\"input_ids\"]) - prompt_tokens\n",
    "    response = generated.split(\"<|eot_id|>\")[-1]\n",
    "\n",
    "    results.append({\n",
    "        \"prompt\": prompt,\n",
    "        \"response\": generated,\n",
    "        \"prompt_tokens\": prompt_tokens,\n",
    "        \"response_tokens\": response_tokens,\n",
    "        \"duration_prefill\": duration_prefill,\n",
    "        \"duration_generate\": duration_generate,\n",
    "        \"duration_decode\": duration_decode,\n",
    "        \"energy_prefill_cpu\": energy_prefill_cpu,\n",
    "        \"energy_prefill_gpu\": energy_prefill_gpu,\n",
    "        \"energy_generate_cpu\": energy_generate_cpu,\n",
    "        \"energy_generate_gpu\": energy_generate_gpu,\n",
    "        \"energy_cpu_decode\": energy_cpu_decode,\n",
    "        \"energy_gpu_decode\": energy_gpu_decode,\n",
    "    })\n",
    "\n",
    "# Sauvegarde CSV\n",
    "df = pd.DataFrame(results)\n",
    "df.to_csv(OUT_CSV, index=False)\n",
    "print(f\"Résultats sauvegardés dans {OUT_CSV}\")\n"
   ]
  },
  {
   "cell_type": "code",
   "execution_count": 37,
   "id": "b6c550db",
   "metadata": {},
   "outputs": [
    {
     "data": {
      "text/html": [
       "<div>\n",
       "<style scoped>\n",
       "    .dataframe tbody tr th:only-of-type {\n",
       "        vertical-align: middle;\n",
       "    }\n",
       "\n",
       "    .dataframe tbody tr th {\n",
       "        vertical-align: top;\n",
       "    }\n",
       "\n",
       "    .dataframe thead th {\n",
       "        text-align: right;\n",
       "    }\n",
       "</style>\n",
       "<table border=\"1\" class=\"dataframe\">\n",
       "  <thead>\n",
       "    <tr style=\"text-align: right;\">\n",
       "      <th></th>\n",
       "      <th>prompt</th>\n",
       "      <th>response</th>\n",
       "      <th>prompt_tokens</th>\n",
       "      <th>response_tokens</th>\n",
       "      <th>duration_prefill</th>\n",
       "      <th>duration_generate</th>\n",
       "      <th>duration_decode</th>\n",
       "      <th>energy_prefill_cpu</th>\n",
       "      <th>energy_prefill_gpu</th>\n",
       "      <th>energy_generate_cpu</th>\n",
       "      <th>energy_generate_gpu</th>\n",
       "      <th>energy_cpu_decode</th>\n",
       "      <th>energy_gpu_decode</th>\n",
       "    </tr>\n",
       "  </thead>\n",
       "  <tbody>\n",
       "    <tr>\n",
       "      <th>0</th>\n",
       "      <td>&lt;|begin_of_text|&gt;\\n&lt;|start_header_id|&gt;user&lt;|en...</td>\n",
       "      <td>\\nuser\\n\\nThese instructions apply to section-...</td>\n",
       "      <td>683</td>\n",
       "      <td>12</td>\n",
       "      <td>0.245482</td>\n",
       "      <td>1.347342</td>\n",
       "      <td>1.10186</td>\n",
       "      <td>0.000009</td>\n",
       "      <td>0.000062</td>\n",
       "      <td>0.000026</td>\n",
       "      <td>0.00023</td>\n",
       "      <td>0.000017</td>\n",
       "      <td>0.000168</td>\n",
       "    </tr>\n",
       "  </tbody>\n",
       "</table>\n",
       "</div>"
      ],
      "text/plain": [
       "                                              prompt  \\\n",
       "0  <|begin_of_text|>\\n<|start_header_id|>user<|en...   \n",
       "\n",
       "                                            response  prompt_tokens  \\\n",
       "0  \\nuser\\n\\nThese instructions apply to section-...            683   \n",
       "\n",
       "   response_tokens  duration_prefill  duration_generate  duration_decode  \\\n",
       "0               12          0.245482           1.347342          1.10186   \n",
       "\n",
       "   energy_prefill_cpu  energy_prefill_gpu  energy_generate_cpu  \\\n",
       "0            0.000009            0.000062             0.000026   \n",
       "\n",
       "   energy_generate_gpu  energy_cpu_decode  energy_gpu_decode  \n",
       "0              0.00023           0.000017           0.000168  "
      ]
     },
     "execution_count": 37,
     "metadata": {},
     "output_type": "execute_result"
    }
   ],
   "source": [
    "df"
   ]
  },
  {
   "cell_type": "code",
   "execution_count": 17,
   "id": "6f1b29e4",
   "metadata": {},
   "outputs": [
    {
     "data": {
      "text/plain": [
       "9.37894555972889e-06"
      ]
     },
     "execution_count": 17,
     "metadata": {},
     "output_type": "execute_result"
    }
   ],
   "source": [
    "tracker._total_cpu_energy.kWh"
   ]
  },
  {
   "cell_type": "code",
   "execution_count": 18,
   "id": "c70094b9",
   "metadata": {},
   "outputs": [
    {
     "data": {
      "text/plain": [
       "6.778838746868132e-05"
      ]
     },
     "execution_count": 18,
     "metadata": {},
     "output_type": "execute_result"
    }
   ],
   "source": [
    "tracker._total_gpu_energy.kWh"
   ]
  },
  {
   "cell_type": "code",
   "execution_count": 13,
   "id": "778bb70a",
   "metadata": {},
   "outputs": [
    {
     "data": {
      "text/plain": [
       "['__abstractmethods__',\n",
       " '__annotations__',\n",
       " '__class__',\n",
       " '__delattr__',\n",
       " '__dict__',\n",
       " '__dir__',\n",
       " '__doc__',\n",
       " '__enter__',\n",
       " '__eq__',\n",
       " '__exit__',\n",
       " '__format__',\n",
       " '__ge__',\n",
       " '__getattribute__',\n",
       " '__gt__',\n",
       " '__hash__',\n",
       " '__init__',\n",
       " '__init_subclass__',\n",
       " '__le__',\n",
       " '__lt__',\n",
       " '__module__',\n",
       " '__ne__',\n",
       " '__new__',\n",
       " '__reduce__',\n",
       " '__reduce_ex__',\n",
       " '__repr__',\n",
       " '__setattr__',\n",
       " '__sizeof__',\n",
       " '__slots__',\n",
       " '__str__',\n",
       " '__subclasshook__',\n",
       " '__weakref__',\n",
       " '_abc_impl',\n",
       " '_active_task',\n",
       " '_allow_multiple_runs',\n",
       " '_api_call_interval',\n",
       " '_api_endpoint',\n",
       " '_api_key',\n",
       " '_cloud',\n",
       " '_co2_signal_api_token',\n",
       " '_compute_emissions_delta',\n",
       " '_conf',\n",
       " '_cpu_power',\n",
       " '_data_source',\n",
       " '_do_measurements',\n",
       " '_emissions',\n",
       " '_emissions_endpoint',\n",
       " '_experiment_id',\n",
       " '_experiment_name',\n",
       " '_external_conf',\n",
       " '_force_cpu_power',\n",
       " '_force_mode_cpu_load',\n",
       " '_force_ram_power',\n",
       " '_geo',\n",
       " '_get_cloud_metadata',\n",
       " '_get_geo_metadata',\n",
       " '_gpu_ids',\n",
       " '_gpu_power',\n",
       " '_hardware',\n",
       " '_init_output_methods',\n",
       " '_last_measured_time',\n",
       " '_log_level',\n",
       " '_logger_preamble',\n",
       " '_logging_logger',\n",
       " '_measure_occurrence',\n",
       " '_measure_power_and_energy',\n",
       " '_measure_power_secs',\n",
       " '_monitor_power',\n",
       " '_on_csv_write',\n",
       " '_output_dir',\n",
       " '_output_file',\n",
       " '_output_handlers',\n",
       " '_persist_data',\n",
       " '_prepare_emissions_data',\n",
       " '_previous_emissions',\n",
       " '_project_name',\n",
       " '_prometheus_url',\n",
       " '_pue',\n",
       " '_ram_power',\n",
       " '_save_to_api',\n",
       " '_save_to_file',\n",
       " '_save_to_logfire',\n",
       " '_save_to_logger',\n",
       " '_save_to_prometheus',\n",
       " '_scheduler',\n",
       " '_scheduler_monitor_power',\n",
       " '_set_from_conf',\n",
       " '_start_time',\n",
       " '_task_start_measurement_values',\n",
       " '_task_stop_measurement_values',\n",
       " '_tasks',\n",
       " '_total_cpu_energy',\n",
       " '_total_energy',\n",
       " '_total_gpu_energy',\n",
       " '_total_ram_energy',\n",
       " '_tracking_mode',\n",
       " 'final_emissions',\n",
       " 'final_emissions_data',\n",
       " 'flush',\n",
       " 'run_id',\n",
       " 'service_shutdown',\n",
       " 'start',\n",
       " 'start_task',\n",
       " 'stop',\n",
       " 'stop_task']"
      ]
     },
     "execution_count": 13,
     "metadata": {},
     "output_type": "execute_result"
    }
   ],
   "source": [
    "dir(tracker)"
   ]
  },
  {
   "cell_type": "code",
   "execution_count": 19,
   "id": "6686a060",
   "metadata": {},
   "outputs": [
    {
     "ename": "AttributeError",
     "evalue": "'EmissionsTracker' object has no attribute 'get_energy_consumed_cpu'",
     "output_type": "error",
     "traceback": [
      "\u001b[0;31m---------------------------------------------------------------------------\u001b[0m",
      "\u001b[0;31mAttributeError\u001b[0m                            Traceback (most recent call last)",
      "Cell \u001b[0;32mIn[19], line 1\u001b[0m\n\u001b[0;32m----> 1\u001b[0m \u001b[43mtracker\u001b[49m\u001b[38;5;241;43m.\u001b[39;49m\u001b[43mget_energy_consumed_cpu\u001b[49m()\n",
      "\u001b[0;31mAttributeError\u001b[0m: 'EmissionsTracker' object has no attribute 'get_energy_consumed_cpu'"
     ]
    }
   ],
   "source": [
    "tracker.get_energy_consumed_cpu()"
   ]
  },
  {
   "cell_type": "code",
   "execution_count": null,
   "id": "600ba1dc",
   "metadata": {},
   "outputs": [],
   "source": []
  }
 ],
 "metadata": {
  "kernelspec": {
   "display_name": "Python 3 (ipykernel)",
   "language": "python",
   "name": "python3"
  },
  "language_info": {
   "codemirror_mode": {
    "name": "ipython",
    "version": 3
   },
   "file_extension": ".py",
   "mimetype": "text/x-python",
   "name": "python",
   "nbconvert_exporter": "python",
   "pygments_lexer": "ipython3",
   "version": "3.10.16"
  }
 },
 "nbformat": 4,
 "nbformat_minor": 5
}
