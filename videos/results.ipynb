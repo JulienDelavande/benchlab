{
 "cells": [
  {
   "cell_type": "code",
   "execution_count": 1,
   "id": "a8faa1e5",
   "metadata": {},
   "outputs": [],
   "source": [
    "import pandas as pd\n",
    "import os\n",
    "\n",
    "DATA_DIR = '/fsx/jdelavande/benchlab/videos/data'\n",
    "PREFIX = 'exp_'\n",
    "\n",
    "dfs = []\n",
    "for csv in os.listdir(DATA_DIR):\n",
    "    if csv.endswith('.csv') and csv.startswith(PREFIX):\n",
    "        df = pd.read_csv(os.path.join(DATA_DIR, csv))\n",
    "        dfs.append(df)\n",
    "combined_df = pd.concat(dfs, ignore_index=True)"
   ]
  },
  {
   "cell_type": "code",
   "execution_count": null,
   "id": "fc2825ff",
   "metadata": {},
   "outputs": [],
   "source": []
  }
 ],
 "metadata": {
  "kernelspec": {
   "display_name": "benchlab",
   "language": "python",
   "name": "python3"
  },
  "language_info": {
   "codemirror_mode": {
    "name": "ipython",
    "version": 3
   },
   "file_extension": ".py",
   "mimetype": "text/x-python",
   "name": "python",
   "nbconvert_exporter": "python",
   "pygments_lexer": "ipython3",
   "version": "3.10.16"
  }
 },
 "nbformat": 4,
 "nbformat_minor": 5
}
